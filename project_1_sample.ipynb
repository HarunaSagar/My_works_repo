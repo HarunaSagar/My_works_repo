{
 "cells": [
  {
   "cell_type": "code",
   "execution_count": null,
   "id": "c08812fb-e362-41fb-86f0-8ce57a01748f",
   "metadata": {},
   "outputs": [],
   "source": [
    "#helle  to the  git world"
   ]
  }
 ],
 "metadata": {
  "kernelspec": {
   "display_name": "Python [conda env:base] *",
   "language": "python",
   "name": "conda-base-py"
  },
  "language_info": {
   "codemirror_mode": {
    "name": "ipython",
    "version": 3
   },
   "file_extension": ".py",
   "mimetype": "text/x-python",
   "name": "python",
   "nbconvert_exporter": "python",
   "pygments_lexer": "ipython3",
   "version": "3.12.3"
  }
 },
 "nbformat": 4,
 "nbformat_minor": 5
}
